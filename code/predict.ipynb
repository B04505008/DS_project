{
 "cells": [
  {
   "cell_type": "code",
   "execution_count": null,
   "metadata": {},
   "outputs": [],
   "source": [
    "import numpy as np\n",
    "import sys\n",
    "import pandas as pd\n",
    "from keras.models import Sequential, load_model\n",
    "from keras.layers import Dense, Dropout, Flatten, Activation\n",
    "from keras.layers.normalization import BatchNormalization\n",
    "from sklearn import preprocessing\n",
    "from sklearn.externals import joblib\n",
    "from tensorflow.python.client import device_lib\n",
    "import keras.backend as K\n",
    "import tensorflow as tf\n",
    "config = tf.ConfigProto()\n",
    "config.gpu_options.allow_growth = True\n",
    "sess = tf.Session(config = config)"
   ]
  },
  {
   "cell_type": "code",
   "execution_count": null,
   "metadata": {},
   "outputs": [],
   "source": [
    "device_lib.list_local_devices()"
   ]
  },
  {
   "cell_type": "code",
   "execution_count": null,
   "metadata": {},
   "outputs": [],
   "source": [
    "def predict(csv_filepath):\n",
    "    data = pd.read_csv(csv_filepath)\n",
    "    scaler = joblib.load('scaler.pkl')\n",
    "    #print(data.shape)\n",
    "    df = pd.DataFrame(data)\n",
    "    #data = data.astype('float32')\n",
    "    #data = np.array(data,dtype=np.long)\n",
    "    data = scaler.transform(data)\n",
    "    #print(data.shape)\n",
    "    #data = np.expand_dims(data, axis=2)\n",
    "    #print(data.shape)\n",
    "    model = load_model(\"./model/model-00001-1.00000-0.00410.h5\")\n",
    "    #model2 = load_model(\"./model/model-00001-0.98077-0.06064.h5\")\n",
    "    #model3 = load_model(\"./model/1/model-00203-0.98244-0.05789.h5\")\n",
    "    #model4 = load_model(\"./model/1/model-00203-0.98244-0.05789.h5\")\n",
    "    pred = 0.0\n",
    "    pred += model.predict(data)\n",
    "    #pred += model2.predict(data)\n",
    "    #pred += model3.predict(data)\n",
    "    #pred += model4.predict(data)\n",
    "    #pred = pred/2\n",
    "    #pred = np.around(pred)\n",
    "    #print(pred.shape)\n",
    "    #print(pred)\n",
    "    pred = pd.DataFrame(pred)\n",
    "    #print(pred)\n",
    "    #result = pd.concat([pred, df], axis=1)\n",
    "    #result.round({'tor label':2})\n",
    "    #print(result)\n",
    "    return result\n",
    "    \n",
    "    "
   ]
  },
  {
   "cell_type": "code",
   "execution_count": null,
   "metadata": {},
   "outputs": [],
   "source": [
    "data = \"./x3.csv\"\n",
    "data1 = \"./y3.csv\"\n",
    "predict(data)\n",
    "#predict(data1)\n",
    "#predict(data2)"
   ]
  },
  {
   "cell_type": "code",
   "execution_count": null,
   "metadata": {},
   "outputs": [],
   "source": []
  },
  {
   "cell_type": "code",
   "execution_count": null,
   "metadata": {},
   "outputs": [],
   "source": []
  }
 ],
 "metadata": {
  "kernelspec": {
   "display_name": "Python 3",
   "language": "python",
   "name": "python3"
  },
  "language_info": {
   "codemirror_mode": {
    "name": "ipython",
    "version": 3
   },
   "file_extension": ".py",
   "mimetype": "text/x-python",
   "name": "python",
   "nbconvert_exporter": "python",
   "pygments_lexer": "ipython3",
   "version": "3.5.2"
  }
 },
 "nbformat": 4,
 "nbformat_minor": 2
}
